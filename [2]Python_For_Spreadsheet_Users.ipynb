{
  "nbformat": 4,
  "nbformat_minor": 0,
  "metadata": {
    "kernelspec": {
      "display_name": "Python 3",
      "language": "python",
      "name": "python3"
    },
    "language_info": {
      "codemirror_mode": {
        "name": "ipython",
        "version": 3
      },
      "file_extension": ".py",
      "mimetype": "text/x-python",
      "name": "python",
      "nbconvert_exporter": "python",
      "pygments_lexer": "ipython3",
      "version": "3.8.5"
    },
    "colab": {
      "name": "Python For Spreadsheet Users.ipynb",
      "provenance": [],
      "include_colab_link": true
    }
  },
  "cells": [
    {
      "cell_type": "markdown",
      "metadata": {
        "id": "view-in-github",
        "colab_type": "text"
      },
      "source": [
        "<a href=\"https://colab.research.google.com/github/jokoeliyanto/BANGKIT_GROUP_ASSIGNMENT/blob/master/%5B2%5DPython_For_Spreadsheet_Users.ipynb\" target=\"_parent\"><img src=\"https://colab.research.google.com/assets/colab-badge.svg\" alt=\"Open In Colab\"/></a>"
      ]
    },
    {
      "cell_type": "markdown",
      "metadata": {
        "id": "Oq0XpsxBCi96"
      },
      "source": [
        "## Importing packages\n",
        "Code packages are an important part of using Python. Code packages give us extra functionality to perform useful tasks in Python like loading data and making graphs.\n",
        "\n",
        "The pandas package will help us import our Excel data with it's ```read_excel()``` function, but first, we have to ```import``` the pandas package.\n",
        "\n",
        "Also note: lines of code that start with a hash (#) are called comments. Instructions will be displayed in the comments for your convenience."
      ]
    },
    {
      "cell_type": "code",
      "metadata": {
        "id": "sBCUo9OSCi-B"
      },
      "source": [
        "# Import the pandas package\n",
        "import pandas as pd"
      ],
      "execution_count": null,
      "outputs": []
    },
    {
      "cell_type": "markdown",
      "metadata": {
        "id": "HgiAJhT7Ci-C"
      },
      "source": [
        "## Loading data\n",
        "The pandas package, which you now know how to import as pd, has a useful function, read_excel(), that will load in our Excel data.\n",
        "\n",
        "The ticket_sales.xlsx file contains data relating to ticket sales for several (fake and punny) movies at a few different theater locations. Maybe they're your theaters.\n",
        "\n",
        "Let's get this data into Python so you can start looking at movie and location performance."
      ]
    },
    {
      "cell_type": "code",
      "metadata": {
        "id": "43MmjJWaCi-D"
      },
      "source": [
        "# Import the pandas package as pd\n",
        "import pandas as pd\n",
        "\n",
        "# Use the read_excel function to load ticket_sales.xlsx\n",
        "sales=pd.read_excel('ticket_sales.xlsx')\n"
      ],
      "execution_count": null,
      "outputs": []
    },
    {
      "cell_type": "markdown",
      "metadata": {
        "id": "aV7HOM84Ci-D"
      },
      "source": [
        "## Looking at data with print()\n",
        "Now that we have your movies and theater data loaded into Python, what does this data even look like?\n",
        "\n",
        "By using the ```print()``` function, we'll be able to look at the ticket sales data in its entirety. Notice how this 'view' of ticket sales data is the number of tickets sold for each movie in each theater location. Each row is an observation of a single movie at a single theater's location."
      ]
    },
    {
      "cell_type": "code",
      "metadata": {
        "id": "zcxT60_SCi-D",
        "outputId": "4c7b433a-ad70-4613-a63a-b12208317bdd"
      },
      "source": [
        "# Print sales\n",
        "print(sales)"
      ],
      "execution_count": null,
      "outputs": [
        {
          "output_type": "stream",
          "text": [
            "   theater_location                      movie_title  ticket_quantity\n",
            "0       Los Angeles      10 Things I Hate About Unix              188\n",
            "1       Los Angeles                    Harry Plotter              137\n",
            "2       Los Angeles                   Kung Fu pandas              143\n",
            "3       Los Angeles                    Mamma Median!              155\n",
            "4       Los Angeles                     The Matrices              167\n",
            "5       Los Angeles             The Seaborn Identity              157\n",
            "6       Los Angeles              The Sumif All Fears               65\n",
            "7       Los Angeles  There's Something About Merging               88\n",
            "8       Los Angeles           While You Were Sorting               56\n",
            "9          New York           While You Were Sorting               27\n",
            "10         New York  There's Something About Merging               28\n",
            "11         New York              The Sumif All Fears               45\n",
            "12         New York             The Seaborn Identity              114\n",
            "13         New York                     The Matrices               89\n",
            "14         New York                    Mamma Median!               91\n",
            "15         New York                   Kung Fu pandas               32\n",
            "16         New York                    Harry Plotter               63\n",
            "17         New York      10 Things I Hate About Unix               65\n",
            "18         Portland      10 Things I Hate About Unix               78\n",
            "19         Portland                    Harry Plotter               92\n",
            "20         Portland                   Kung Fu pandas               78\n",
            "21         Portland                    Mamma Median!               77\n",
            "22         Portland                     The Matrices               87\n",
            "23         Portland             The Seaborn Identity               81\n",
            "24         Portland              The Sumif All Fears               46\n",
            "25         Portland  There's Something About Merging               33\n",
            "26         Portland           While You Were Sorting               23\n"
          ],
          "name": "stdout"
        }
      ]
    },
    {
      "cell_type": "markdown",
      "metadata": {
        "id": "mBH_BdafCi-E"
      },
      "source": [
        "## The .head() method\n",
        "It's great to see your data, but most times not all at once. Imagine if you have 10,000 rows printing to the console at once. No good!\n",
        "\n",
        "To quickly and easily display the first few rows of our data, we can use the .head() method."
      ]
    },
    {
      "cell_type": "code",
      "metadata": {
        "id": "IdwlKaHbCi-E",
        "outputId": "2b70e0cd-fd1b-415d-d876-11c6b171c5e3"
      },
      "source": [
        "# Print first 5 rows of the dataframe\n",
        "print(sales.head())"
      ],
      "execution_count": null,
      "outputs": [
        {
          "output_type": "stream",
          "text": [
            "  theater_location                  movie_title  ticket_quantity\n",
            "0      Los Angeles  10 Things I Hate About Unix              188\n",
            "1      Los Angeles                Harry Plotter              137\n",
            "2      Los Angeles               Kung Fu pandas              143\n",
            "3      Los Angeles                Mamma Median!              155\n",
            "4      Los Angeles                 The Matrices              167\n"
          ],
          "name": "stdout"
        }
      ]
    },
    {
      "cell_type": "code",
      "metadata": {
        "id": "rK7Grix3Ci-F",
        "outputId": "d49e7a99-7ba9-4dc2-83b5-5c05490476d2"
      },
      "source": [
        "# Print first 3 rows of the dataframe\n",
        "print(sales.head(3))"
      ],
      "execution_count": null,
      "outputs": [
        {
          "output_type": "stream",
          "text": [
            "  theater_location                  movie_title  ticket_quantity\n",
            "0      Los Angeles  10 Things I Hate About Unix              188\n",
            "1      Los Angeles                Harry Plotter              137\n",
            "2      Los Angeles               Kung Fu pandas              143\n"
          ],
          "name": "stdout"
        }
      ]
    },
    {
      "cell_type": "markdown",
      "metadata": {
        "id": "qdbVBdEwCi-F"
      },
      "source": [
        "## The .sort_values() method\n",
        "Let's say you wanted to look at the top 10 theater/movie combinations in your data. Maybe you want to build another theater in your best-performing city, or see if a smash hit movie was generating impressive ticket sales in all of your theater locations. A start to this process might be to sort your data by ticket sales and look at the top few rows.\n",
        "\n",
        "That's one place where sort_values() comes in handy. Let's use it to answer the question what are our top 3 movie/theater combinations?"
      ]
    },
    {
      "cell_type": "code",
      "metadata": {
        "id": "skaMMaSpCi-F",
        "outputId": "4e4065ce-5073-4da4-e47c-81625591d762"
      },
      "source": [
        "sales_sorted = sales.sort_values('ticket_quantity', ascending=False)\n",
        "sales_sorted = sales_sorted.reset_index(drop=True)\n",
        "\n",
        "# Print top 3 rows of sorted data\n",
        "print(sales_sorted.head(3))"
      ],
      "execution_count": null,
      "outputs": [
        {
          "output_type": "stream",
          "text": [
            "  theater_location                  movie_title  ticket_quantity\n",
            "0      Los Angeles  10 Things I Hate About Unix              188\n",
            "1      Los Angeles                 The Matrices              167\n",
            "2      Los Angeles         The Seaborn Identity              157\n"
          ],
          "name": "stdout"
        }
      ]
    },
    {
      "cell_type": "markdown",
      "metadata": {
        "id": "pMMvdMpNCi-G"
      },
      "source": [
        "## Filtering\n",
        "You'll recall from our previous exercises that the most ticket sales were all occurring in Los Angeles, making it difficult to look at other theater locations' performances. If we wanted to look at a subset of our data, such as one theater location, we'll have to filter our data."
      ]
    },
    {
      "cell_type": "code",
      "metadata": {
        "id": "u6wZ5fP7Ci-G",
        "outputId": "1ca8aa09-fdcb-438b-8838-9148536590a8"
      },
      "source": [
        "# Filter for New York sales only\n",
        "new_york_sales = sales[sales['theater_location'] == 'New York'].reset_index(drop=True)\n",
        "\n",
        "# Print the first 5 rows of new_york_sales\n",
        "print(new_york_sales.head())"
      ],
      "execution_count": null,
      "outputs": [
        {
          "output_type": "stream",
          "text": [
            "  theater_location                      movie_title  ticket_quantity\n",
            "0         New York           While You Were Sorting               27\n",
            "1         New York  There's Something About Merging               28\n",
            "2         New York              The Sumif All Fears               45\n",
            "3         New York             The Seaborn Identity              114\n",
            "4         New York                     The Matrices               89\n"
          ],
          "name": "stdout"
        }
      ]
    },
    {
      "cell_type": "markdown",
      "metadata": {
        "id": "q6uuteBMCi-G"
      },
      "source": [
        "## Creating columns\n",
        "Sometimes we have to create new columns based on the data we have in order to better represent the information we currently have. For example, maybe we care more about the dollar value of our ticket sales than just the actual quantity of tickets we've sold."
      ]
    },
    {
      "cell_type": "code",
      "metadata": {
        "id": "j9jWOHsgCi-G",
        "outputId": "68095f0e-740b-498e-b205-c67b9500d2f9"
      },
      "source": [
        "# Create a sales_usd column\n",
        "sales['sales_usd'] = sales['ticket_quantity'] * 20\n",
        "\n",
        "# Print the head of sales\n",
        "print(sales.head())"
      ],
      "execution_count": null,
      "outputs": [
        {
          "output_type": "stream",
          "text": [
            "  theater_location                  movie_title  ticket_quantity  sales_usd\n",
            "0      Los Angeles  10 Things I Hate About Unix              188       3760\n",
            "1      Los Angeles                Harry Plotter              137       2740\n",
            "2      Los Angeles               Kung Fu pandas              143       2860\n",
            "3      Los Angeles                Mamma Median!              155       3100\n",
            "4      Los Angeles                 The Matrices              167       3340\n"
          ],
          "name": "stdout"
        }
      ]
    },
    {
      "cell_type": "markdown",
      "metadata": {
        "id": "S5dNZxWrCi-H"
      },
      "source": [
        "## Putting it all together\n",
        "Now it's time to put everything we've learned in Chapter 1 to the test. From importing data, to filtering it, sorting it, and creating new columns. The pandas package has already been loaded for you. In this exercise, we'll identify the best-selling movie in our Portland theater location. Good luck and remember your training!"
      ]
    },
    {
      "cell_type": "code",
      "metadata": {
        "id": "hPq7FQ8iCi-H",
        "outputId": "82a7c8b5-68a1-476e-ae0e-b771d91b114c"
      },
      "source": [
        "# Filter for Portland theaters\n",
        "portland_sales = sales[sales['theater_location'] == \"Portland\"].reset_index(drop=True)\n",
        "portland_sales"
      ],
      "execution_count": null,
      "outputs": [
        {
          "output_type": "execute_result",
          "data": {
            "text/html": [
              "<div>\n",
              "<style scoped>\n",
              "    .dataframe tbody tr th:only-of-type {\n",
              "        vertical-align: middle;\n",
              "    }\n",
              "\n",
              "    .dataframe tbody tr th {\n",
              "        vertical-align: top;\n",
              "    }\n",
              "\n",
              "    .dataframe thead th {\n",
              "        text-align: right;\n",
              "    }\n",
              "</style>\n",
              "<table border=\"1\" class=\"dataframe\">\n",
              "  <thead>\n",
              "    <tr style=\"text-align: right;\">\n",
              "      <th></th>\n",
              "      <th>theater_location</th>\n",
              "      <th>movie_title</th>\n",
              "      <th>ticket_quantity</th>\n",
              "      <th>sales_usd</th>\n",
              "    </tr>\n",
              "  </thead>\n",
              "  <tbody>\n",
              "    <tr>\n",
              "      <th>0</th>\n",
              "      <td>Portland</td>\n",
              "      <td>10 Things I Hate About Unix</td>\n",
              "      <td>78</td>\n",
              "      <td>1560</td>\n",
              "    </tr>\n",
              "    <tr>\n",
              "      <th>1</th>\n",
              "      <td>Portland</td>\n",
              "      <td>Harry Plotter</td>\n",
              "      <td>92</td>\n",
              "      <td>1840</td>\n",
              "    </tr>\n",
              "    <tr>\n",
              "      <th>2</th>\n",
              "      <td>Portland</td>\n",
              "      <td>Kung Fu pandas</td>\n",
              "      <td>78</td>\n",
              "      <td>1560</td>\n",
              "    </tr>\n",
              "    <tr>\n",
              "      <th>3</th>\n",
              "      <td>Portland</td>\n",
              "      <td>Mamma Median!</td>\n",
              "      <td>77</td>\n",
              "      <td>1540</td>\n",
              "    </tr>\n",
              "    <tr>\n",
              "      <th>4</th>\n",
              "      <td>Portland</td>\n",
              "      <td>The Matrices</td>\n",
              "      <td>87</td>\n",
              "      <td>1740</td>\n",
              "    </tr>\n",
              "    <tr>\n",
              "      <th>5</th>\n",
              "      <td>Portland</td>\n",
              "      <td>The Seaborn Identity</td>\n",
              "      <td>81</td>\n",
              "      <td>1620</td>\n",
              "    </tr>\n",
              "    <tr>\n",
              "      <th>6</th>\n",
              "      <td>Portland</td>\n",
              "      <td>The Sumif All Fears</td>\n",
              "      <td>46</td>\n",
              "      <td>920</td>\n",
              "    </tr>\n",
              "    <tr>\n",
              "      <th>7</th>\n",
              "      <td>Portland</td>\n",
              "      <td>There's Something About Merging</td>\n",
              "      <td>33</td>\n",
              "      <td>660</td>\n",
              "    </tr>\n",
              "    <tr>\n",
              "      <th>8</th>\n",
              "      <td>Portland</td>\n",
              "      <td>While You Were Sorting</td>\n",
              "      <td>23</td>\n",
              "      <td>460</td>\n",
              "    </tr>\n",
              "  </tbody>\n",
              "</table>\n",
              "</div>"
            ],
            "text/plain": [
              "  theater_location                      movie_title  ticket_quantity  \\\n",
              "0         Portland      10 Things I Hate About Unix               78   \n",
              "1         Portland                    Harry Plotter               92   \n",
              "2         Portland                   Kung Fu pandas               78   \n",
              "3         Portland                    Mamma Median!               77   \n",
              "4         Portland                     The Matrices               87   \n",
              "5         Portland             The Seaborn Identity               81   \n",
              "6         Portland              The Sumif All Fears               46   \n",
              "7         Portland  There's Something About Merging               33   \n",
              "8         Portland           While You Were Sorting               23   \n",
              "\n",
              "   sales_usd  \n",
              "0       1560  \n",
              "1       1840  \n",
              "2       1560  \n",
              "3       1540  \n",
              "4       1740  \n",
              "5       1620  \n",
              "6        920  \n",
              "7        660  \n",
              "8        460  "
            ]
          },
          "metadata": {
            "tags": []
          },
          "execution_count": 14
        }
      ]
    },
    {
      "cell_type": "code",
      "metadata": {
        "id": "hqfTk1W5Ci-H",
        "outputId": "bb23db7c-bdd4-4ca6-ba67-a5d153dabe05"
      },
      "source": [
        "# Create sales_usd column\n",
        "portland_sales['sales_usd'] = portland_sales['ticket_quantity'] * 20\n",
        "portland_sales"
      ],
      "execution_count": null,
      "outputs": [
        {
          "output_type": "execute_result",
          "data": {
            "text/html": [
              "<div>\n",
              "<style scoped>\n",
              "    .dataframe tbody tr th:only-of-type {\n",
              "        vertical-align: middle;\n",
              "    }\n",
              "\n",
              "    .dataframe tbody tr th {\n",
              "        vertical-align: top;\n",
              "    }\n",
              "\n",
              "    .dataframe thead th {\n",
              "        text-align: right;\n",
              "    }\n",
              "</style>\n",
              "<table border=\"1\" class=\"dataframe\">\n",
              "  <thead>\n",
              "    <tr style=\"text-align: right;\">\n",
              "      <th></th>\n",
              "      <th>theater_location</th>\n",
              "      <th>movie_title</th>\n",
              "      <th>ticket_quantity</th>\n",
              "      <th>sales_usd</th>\n",
              "    </tr>\n",
              "  </thead>\n",
              "  <tbody>\n",
              "    <tr>\n",
              "      <th>0</th>\n",
              "      <td>Portland</td>\n",
              "      <td>10 Things I Hate About Unix</td>\n",
              "      <td>78</td>\n",
              "      <td>1560</td>\n",
              "    </tr>\n",
              "    <tr>\n",
              "      <th>1</th>\n",
              "      <td>Portland</td>\n",
              "      <td>Harry Plotter</td>\n",
              "      <td>92</td>\n",
              "      <td>1840</td>\n",
              "    </tr>\n",
              "    <tr>\n",
              "      <th>2</th>\n",
              "      <td>Portland</td>\n",
              "      <td>Kung Fu pandas</td>\n",
              "      <td>78</td>\n",
              "      <td>1560</td>\n",
              "    </tr>\n",
              "    <tr>\n",
              "      <th>3</th>\n",
              "      <td>Portland</td>\n",
              "      <td>Mamma Median!</td>\n",
              "      <td>77</td>\n",
              "      <td>1540</td>\n",
              "    </tr>\n",
              "    <tr>\n",
              "      <th>4</th>\n",
              "      <td>Portland</td>\n",
              "      <td>The Matrices</td>\n",
              "      <td>87</td>\n",
              "      <td>1740</td>\n",
              "    </tr>\n",
              "    <tr>\n",
              "      <th>5</th>\n",
              "      <td>Portland</td>\n",
              "      <td>The Seaborn Identity</td>\n",
              "      <td>81</td>\n",
              "      <td>1620</td>\n",
              "    </tr>\n",
              "    <tr>\n",
              "      <th>6</th>\n",
              "      <td>Portland</td>\n",
              "      <td>The Sumif All Fears</td>\n",
              "      <td>46</td>\n",
              "      <td>920</td>\n",
              "    </tr>\n",
              "    <tr>\n",
              "      <th>7</th>\n",
              "      <td>Portland</td>\n",
              "      <td>There's Something About Merging</td>\n",
              "      <td>33</td>\n",
              "      <td>660</td>\n",
              "    </tr>\n",
              "    <tr>\n",
              "      <th>8</th>\n",
              "      <td>Portland</td>\n",
              "      <td>While You Were Sorting</td>\n",
              "      <td>23</td>\n",
              "      <td>460</td>\n",
              "    </tr>\n",
              "  </tbody>\n",
              "</table>\n",
              "</div>"
            ],
            "text/plain": [
              "  theater_location                      movie_title  ticket_quantity  \\\n",
              "0         Portland      10 Things I Hate About Unix               78   \n",
              "1         Portland                    Harry Plotter               92   \n",
              "2         Portland                   Kung Fu pandas               78   \n",
              "3         Portland                    Mamma Median!               77   \n",
              "4         Portland                     The Matrices               87   \n",
              "5         Portland             The Seaborn Identity               81   \n",
              "6         Portland              The Sumif All Fears               46   \n",
              "7         Portland  There's Something About Merging               33   \n",
              "8         Portland           While You Were Sorting               23   \n",
              "\n",
              "   sales_usd  \n",
              "0       1560  \n",
              "1       1840  \n",
              "2       1560  \n",
              "3       1540  \n",
              "4       1740  \n",
              "5       1620  \n",
              "6        920  \n",
              "7        660  \n",
              "8        460  "
            ]
          },
          "metadata": {
            "tags": []
          },
          "execution_count": 16
        }
      ]
    },
    {
      "cell_type": "code",
      "metadata": {
        "id": "CFGAIgf_Ci-H",
        "outputId": "616b18a7-04dc-471e-8fa7-b2bc983d6c98"
      },
      "source": [
        "# Sort by sales_usd descending\n",
        "portland_sales = portland_sales.sort_values('sales_usd', ascending=False).reset_index(drop=True)\n",
        "\n",
        "# Print the first row\n",
        "print(portland_sales.head(1))"
      ],
      "execution_count": null,
      "outputs": [
        {
          "output_type": "stream",
          "text": [
            "  theater_location    movie_title  ticket_quantity  sales_usd\n",
            "0         Portland  Harry Plotter               92       1840\n"
          ],
          "name": "stdout"
        }
      ]
    },
    {
      "cell_type": "markdown",
      "metadata": {
        "id": "9WyOB4dXCi-I"
      },
      "source": [
        "## .groupby() and .sum() together\n",
        "If you looked at our transaction-level data in the last exercise, you may have noticed some new columns, like movie_genre and ticket_type. In this exercise, we'll focus on summarizing our data by ticket_type. Tickets can be priced for adults, seniors, or children, and the ticket_type column contains the ticket type purchased during each transaction.\n",
        "\n",
        "Let's use .groupby() and .sum() to create a summary table to understand how many of our tickets are of each ticket type.\n",
        "\n",
        "The pandas package and the sales data set has already been loaded for you."
      ]
    },
    {
      "cell_type": "code",
      "metadata": {
        "id": "2TnYEhJvCi-I",
        "outputId": "fead6dca-46cb-4c23-88b2-604159a7e329"
      },
      "source": [
        "sales=pd.read_excel('movie theater sales data.xlsx')\n",
        "sales.head()"
      ],
      "execution_count": null,
      "outputs": [
        {
          "output_type": "execute_result",
          "data": {
            "text/html": [
              "<div>\n",
              "<style scoped>\n",
              "    .dataframe tbody tr th:only-of-type {\n",
              "        vertical-align: middle;\n",
              "    }\n",
              "\n",
              "    .dataframe tbody tr th {\n",
              "        vertical-align: top;\n",
              "    }\n",
              "\n",
              "    .dataframe thead th {\n",
              "        text-align: right;\n",
              "    }\n",
              "</style>\n",
              "<table border=\"1\" class=\"dataframe\">\n",
              "  <thead>\n",
              "    <tr style=\"text-align: right;\">\n",
              "      <th></th>\n",
              "      <th>theater_name</th>\n",
              "      <th>theater_location</th>\n",
              "      <th>movie_title</th>\n",
              "      <th>movie_genre</th>\n",
              "      <th>ticket_type</th>\n",
              "      <th>ticket_quantity</th>\n",
              "    </tr>\n",
              "  </thead>\n",
              "  <tbody>\n",
              "    <tr>\n",
              "      <th>0</th>\n",
              "      <td>Sumdance Cinemas</td>\n",
              "      <td>Los Angeles</td>\n",
              "      <td>Harry Plotter</td>\n",
              "      <td>Kids</td>\n",
              "      <td>senior</td>\n",
              "      <td>4</td>\n",
              "    </tr>\n",
              "    <tr>\n",
              "      <th>1</th>\n",
              "      <td>The Empirical House</td>\n",
              "      <td>New York</td>\n",
              "      <td>10 Things I Hate About Unix</td>\n",
              "      <td>Romance</td>\n",
              "      <td>child</td>\n",
              "      <td>2</td>\n",
              "    </tr>\n",
              "    <tr>\n",
              "      <th>2</th>\n",
              "      <td>The Empirical House</td>\n",
              "      <td>New York</td>\n",
              "      <td>The Seaborn Identity</td>\n",
              "      <td>Action</td>\n",
              "      <td>adult</td>\n",
              "      <td>4</td>\n",
              "    </tr>\n",
              "    <tr>\n",
              "      <th>3</th>\n",
              "      <td>Sumdance Cinemas</td>\n",
              "      <td>Los Angeles</td>\n",
              "      <td>10 Things I Hate About Unix</td>\n",
              "      <td>Romance</td>\n",
              "      <td>adult</td>\n",
              "      <td>2</td>\n",
              "    </tr>\n",
              "    <tr>\n",
              "      <th>4</th>\n",
              "      <td>The Empirical House</td>\n",
              "      <td>New York</td>\n",
              "      <td>Mamma Median!</td>\n",
              "      <td>Comedy</td>\n",
              "      <td>senior</td>\n",
              "      <td>2</td>\n",
              "    </tr>\n",
              "  </tbody>\n",
              "</table>\n",
              "</div>"
            ],
            "text/plain": [
              "          theater_name theater_location                  movie_title  \\\n",
              "0     Sumdance Cinemas      Los Angeles                Harry Plotter   \n",
              "1  The Empirical House         New York  10 Things I Hate About Unix   \n",
              "2  The Empirical House         New York         The Seaborn Identity   \n",
              "3     Sumdance Cinemas      Los Angeles  10 Things I Hate About Unix   \n",
              "4  The Empirical House         New York                Mamma Median!   \n",
              "\n",
              "  movie_genre ticket_type  ticket_quantity  \n",
              "0        Kids      senior                4  \n",
              "1     Romance       child                2  \n",
              "2      Action       adult                4  \n",
              "3     Romance       adult                2  \n",
              "4      Comedy      senior                2  "
            ]
          },
          "metadata": {
            "tags": []
          },
          "execution_count": 25
        }
      ]
    },
    {
      "cell_type": "code",
      "metadata": {
        "id": "aMsjivHzCi-I",
        "outputId": "2199f64d-81fb-4a6c-c69b-930aab4d6658"
      },
      "source": [
        "# Create summary by ticket type\n",
        "ticket_type_summary = sales.groupby('ticket_type', as_index=False).sum()\n",
        "\n",
        "# Print ticket_type_summary\n",
        "print(ticket_type_summary)"
      ],
      "execution_count": null,
      "outputs": [
        {
          "output_type": "stream",
          "text": [
            "  ticket_type  ticket_quantity\n",
            "0       adult             1383\n",
            "1       child              487\n",
            "2      senior              435\n"
          ],
          "name": "stdout"
        }
      ]
    },
    {
      "cell_type": "markdown",
      "metadata": {
        "id": "XIvaVMboCi-J"
      },
      "source": [
        "## Summarizing and sorting values\n",
        "We can take what we've learned so far to create tables that give us informative views into our data.\n",
        "\n",
        "Through grouping and summing, we can condense our data down to the features we really care about. Then with methods like .sort_values(), we can order that data to learn more.\n",
        "\n",
        "Let's get a better look at what movie_genres are yielding the highest ticket sales."
      ]
    },
    {
      "cell_type": "code",
      "metadata": {
        "id": "tG5juKZVCi-J",
        "outputId": "35548327-4df6-48bb-8881-580091e9ad48"
      },
      "source": [
        "# Create a summary by movie genre \n",
        "genre_summary = sales.groupby('movie_genre',as_index=False).sum()\n",
        "\n",
        "# Sort summary in descending order of tickets sold\n",
        "genres_sorted = genre_summary.sort_values('ticket_quantity', ascending=False).reset_index(drop=True)\n",
        "\n",
        "# Print the sorted summary\n",
        "print(genres_sorted)"
      ],
      "execution_count": null,
      "outputs": [
        {
          "output_type": "stream",
          "text": [
            "  movie_genre  ticket_quantity\n",
            "0      Action              851\n",
            "1        Kids              545\n",
            "2      Comedy              472\n",
            "3     Romance              437\n"
          ],
          "name": "stdout"
        }
      ]
    },
    {
      "cell_type": "markdown",
      "metadata": {
        "id": "1StmboYICi-J"
      },
      "source": [
        "## Movie genre performance by location\n",
        "Using our new techniques, we can now create more useful tables to inform our analyses.\n",
        "\n",
        "For our sales data, we can condense our 1,000+ rows of transactions down to a few handfuls of rows to answer questions like \"what genres do well in each market?\" or \"what movies do seniors like best?\"\n",
        "\n",
        "Let's answer the question about genres first!"
      ]
    },
    {
      "cell_type": "code",
      "metadata": {
        "id": "pMD8HIHyCi-J",
        "outputId": "a871a69b-d060-4ecb-e986-3c8c98d49752"
      },
      "source": [
        "# Create a list of groups to group by\n",
        "groups = ['theater_location', 'movie_genre']\n",
        "\n",
        "# Create summary table of genres and locations\n",
        "by_location_genre = sales.groupby(groups, as_index=False).sum()\n",
        "\n",
        "# Print the summary table\n",
        "print(by_location_genre)"
      ],
      "execution_count": null,
      "outputs": [
        {
          "output_type": "stream",
          "text": [
            "   theater_location movie_genre  ticket_quantity\n",
            "0       Los Angeles      Action              389\n",
            "1       Los Angeles      Comedy              243\n",
            "2       Los Angeles        Kids              280\n",
            "3       Los Angeles     Romance              244\n",
            "4          New York      Action              248\n",
            "5          New York      Comedy              119\n",
            "6          New York        Kids               95\n",
            "7          New York     Romance               92\n",
            "8         Portland       Action              214\n",
            "9         Portland       Comedy              110\n",
            "10        Portland         Kids              170\n",
            "11        Portland      Romance              101\n"
          ],
          "name": "stdout"
        }
      ]
    },
    {
      "cell_type": "markdown",
      "metadata": {
        "id": "Q071gqQECi-K"
      },
      "source": [
        "## What do seniors like?\n",
        "Let's use what we've learned so far to create a summary table, sort for a specific subset of that table, sort the values, and print the most important results. We'll use these techniques to answer the question \"what movies do seniors like best?\"\n",
        "\n",
        "Note that in this exercise, we'll group by a list directly in the .groupby() method, as opposed to the video exercise, where we first assigned a list to a variable."
      ]
    },
    {
      "cell_type": "code",
      "metadata": {
        "id": "y5TxpsSSCi-K",
        "outputId": "56ba6ca8-edbc-49c4-f260-c184cda0e105"
      },
      "source": [
        "# Summarize by movie title and ticket type\n",
        "movies_by_ticket_type = sales.groupby(['movie_title', 'ticket_type'], as_index=False).sum()\n",
        "\n",
        "# Filter for senior tickets\n",
        "senior_ticket_movies = movies_by_ticket_type[movies_by_ticket_type['ticket_type'] == 'senior'].reset_index(drop=True)\n",
        "\n",
        "# Sort senior ticket sales descending\n",
        "ordered_senior_movies = senior_ticket_movies.sort_values('ticket_quantity', ascending=False).reset_index(drop=True)\n",
        "\n",
        "# Print the top 3 rows of the ordered table\n",
        "print(ordered_senior_movies.head(3))"
      ],
      "execution_count": null,
      "outputs": [
        {
          "output_type": "stream",
          "text": [
            "                   movie_title ticket_type  ticket_quantity\n",
            "0  10 Things I Hate About Unix      senior               86\n",
            "1                 The Matrices      senior               71\n",
            "2                Harry Plotter      senior               69\n"
          ],
          "name": "stdout"
        }
      ]
    },
    {
      "cell_type": "markdown",
      "metadata": {
        "id": "jeDLZhSACi-K"
      },
      "source": [
        "# Best-selling movie by location\n",
        "With our new tools, we can create even more useful tables. Recall earlier, when we found the best-selling movie in Portland - we had to filter our table for Portland films only, then sort the values to find our best-seller. It would be pretty time consuming to do this for every theater location.\n",
        "\n",
        "Instead, using some of our new tools, we can quickly condense our sales transaction data down to a summary table, sort that summary table, and get the top movie for each market all at once."
      ]
    },
    {
      "cell_type": "code",
      "metadata": {
        "id": "p5djHnQCCi-K",
        "outputId": "1dbf0078-2139-4f53-f7b5-e2944ebdf454"
      },
      "source": [
        "# Create a summary by theater location and movie title\n",
        "totals = sales.groupby(['theater_location', 'movie_title'], as_index=False).sum()\n",
        "\n",
        "# Sort totals by ticket quantity in descending order\n",
        "totals_sorted = totals.sort_values('ticket_quantity', ascending=False).reset_index(drop=True)\n",
        "\n",
        "# Take the top row for each theater location\n",
        "top_movies = totals_sorted.groupby('theater_location').head(1).reset_index(drop=True)\n",
        "\n",
        "# Print results\n",
        "print(top_movies)"
      ],
      "execution_count": null,
      "outputs": [
        {
          "output_type": "stream",
          "text": [
            "  theater_location                  movie_title  ticket_quantity\n",
            "0      Los Angeles  10 Things I Hate About Unix              188\n",
            "1         New York         The Seaborn Identity              114\n",
            "2        Portland                 Harry Plotter               92\n"
          ],
          "name": "stdout"
        }
      ]
    },
    {
      "cell_type": "markdown",
      "metadata": {
        "id": "jElybyxlCi-K"
      },
      "source": [
        "## Which movie averages the most sales\n",
        "Maybe you're also curious on average which movie sells the most tickets, so you would know what to expect of that movie should it start playing in another one of your theaters.\n",
        "\n",
        "theater_movie_summary is a summary of theater location and movie titles that will help you find which movie is averaging the best sales!"
      ]
    },
    {
      "cell_type": "code",
      "metadata": {
        "id": "UD00xRvDCi-L",
        "outputId": "2e69041d-1395-40a3-f7ed-3f59d7507266"
      },
      "source": [
        "# Summary of movies and locations\n",
        "theater_movie_summary = sales.groupby(['theater_location', 'movie_title'], as_index=False).sum()\n",
        "\n",
        "# Get average ticket sales by movie title\n",
        "avg_sale_by_movie = theater_movie_summary.groupby('movie_title', as_index=False).mean()\n",
        "\n",
        "# Sort average ticket sales in descending order\n",
        "movies_sorted = avg_sale_by_movie.sort_values('ticket_quantity', ascending=False).reset_index(drop=True)\n",
        "\n",
        "# Print results\n",
        "print(movies_sorted.head(1))"
      ],
      "execution_count": null,
      "outputs": [
        {
          "output_type": "stream",
          "text": [
            "            movie_title  ticket_quantity\n",
            "0  The Seaborn Identity       117.333333\n"
          ],
          "name": "stdout"
        }
      ]
    },
    {
      "cell_type": "markdown",
      "metadata": {
        "id": "N_tS98O8Ci-L"
      },
      "source": [
        "## pd.ExcelFile() function\n",
        "It's rare that you'll have a spreadsheet with just one tab. In this chapter, we'll use multi-tabbed workbook, theater_report.xlsx that will give us some more details on our movie sales. Before we learn about what's in it, we've got to get it into Python.\n",
        "\n",
        "The pandas package has already been loaded for you as pd to help you with this task."
      ]
    },
    {
      "cell_type": "code",
      "metadata": {
        "id": "Z7lVl-B2Ci-L",
        "outputId": "a4bd3b44-cbd8-4659-8018-d830d60d6094"
      },
      "source": [
        "# Read in the whole workbook\n",
        "theater_report = pd.ExcelFile('theater_report.xlsx')\n",
        "\n",
        "# Print the workbook\n",
        "print(theater_report)"
      ],
      "execution_count": null,
      "outputs": [
        {
          "output_type": "stream",
          "text": [
            "<pandas.io.excel._base.ExcelFile object at 0x000002518763D3A0>\n"
          ],
          "name": "stdout"
        }
      ]
    },
    {
      "cell_type": "markdown",
      "metadata": {
        "id": "tUxnechqCi-P"
      },
      "source": [
        "## .sheet_names attribute\n",
        "While our previous sales files contained all information in the initial reading of the file, we'll have to dig a little deeper when dealing with a whole workbook.\n",
        "\n",
        "The theater_report.xlsx workbook contains a few helpful tabs for you to create your report. Can you get the names of these tabs?\n",
        "\n",
        "Once again, pandas has already been loaded for you as pd"
      ]
    },
    {
      "cell_type": "code",
      "metadata": {
        "id": "s4n5XskECi-P",
        "outputId": "852025cc-c892-43b9-f768-99d2b2e5d681"
      },
      "source": [
        "# Read in the whole workbook\n",
        "theater_report = pd.ExcelFile('theater_report.xlsx')\n",
        "\n",
        "# Get sheet names\n",
        "theater_sheets = theater_report.sheet_names\n",
        "\n",
        "# Print sheet names\n",
        "print(theater_sheets)"
      ],
      "execution_count": null,
      "outputs": [
        {
          "output_type": "stream",
          "text": [
            "['sales', 'ticket types', 'theaters', 'movies']\n"
          ],
          "name": "stdout"
        }
      ]
    },
    {
      "cell_type": "markdown",
      "metadata": {
        "id": "-SOkyEn7Ci-Q"
      },
      "source": [
        "## .parse() method\n",
        "From our previous exercise, we know the theater_report workbook has 4 tabs: sales, ticket types, theaters, and movies. Let's convert each tab into a DataFrame and look at them.\n",
        "\n",
        "The theater_report workbook object has already been loaded for you."
      ]
    },
    {
      "cell_type": "code",
      "metadata": {
        "id": "CZJkM-R3Ci-Q",
        "outputId": "8fb63c21-b869-4bcc-a28a-48c7632e2a0b"
      },
      "source": [
        "# Parse the sales tab of the theater report\n",
        "sales = theater_report.parse('sales')\n",
        "\n",
        "print(sales.head())"
      ],
      "execution_count": null,
      "outputs": [
        {
          "output_type": "stream",
          "text": [
            "          theater_name                  movie_title ticket_type  \\\n",
            "0     Sumdance Cinemas                Harry Plotter      senior   \n",
            "1  The Empirical House  10 Things I Hate About Unix       child   \n",
            "2  The Empirical House         The Seaborn Identity       adult   \n",
            "3     Sumdance Cinemas  10 Things I Hate About Unix       adult   \n",
            "4  The Empirical House                Mamma Median!      senior   \n",
            "\n",
            "   ticket_quantity  \n",
            "0                4  \n",
            "1                2  \n",
            "2                4  \n",
            "3                2  \n",
            "4                2  \n"
          ],
          "name": "stdout"
        }
      ]
    },
    {
      "cell_type": "code",
      "metadata": {
        "id": "fnzsmcx6Ci-Q",
        "outputId": "c611687b-b55f-4d8b-b757-1f26555acbf3"
      },
      "source": [
        "# Parse the ticket types tab of the theater report\n",
        "ticket_types = theater_report.parse('ticket types')\n",
        "\n",
        "print(ticket_types)"
      ],
      "execution_count": null,
      "outputs": [
        {
          "output_type": "stream",
          "text": [
            "  ticket_type  ticket_price\n",
            "0       child             8\n",
            "1       adult            20\n",
            "2      senior            12\n"
          ],
          "name": "stdout"
        }
      ]
    },
    {
      "cell_type": "code",
      "metadata": {
        "id": "Miy-iKRtCi-R",
        "outputId": "3fcd17b8-55b4-4004-9171-36ca86f9f8d2"
      },
      "source": [
        "# Parse the theaters tab of the theater report\n",
        "theaters = theater_report.parse('theaters')\n",
        "\n",
        "print(theaters)"
      ],
      "execution_count": null,
      "outputs": [
        {
          "output_type": "stream",
          "text": [
            "                      theater_name theater_location\n",
            "0              The Empirical House         New York\n",
            "1                 Sumdance Cinemas      Los Angeles\n",
            "2                        The Frame         Portland\n",
            "3  Richie's Famous Minimax Theatre      Los Angeles\n"
          ],
          "name": "stdout"
        }
      ]
    },
    {
      "cell_type": "code",
      "metadata": {
        "id": "AszbnAnJCi-R",
        "outputId": "8d09e472-6338-4a55-d85b-3a3f2bbd64eb"
      },
      "source": [
        "# Parse the movies tab of the theater report\n",
        "movies = theater_report.parse('movies')\n",
        "\n",
        "print(movies)"
      ],
      "execution_count": null,
      "outputs": [
        {
          "output_type": "stream",
          "text": [
            "                       movie_title movie_genre  movie_length\n",
            "0              The Sumif All Fears      Action           124\n",
            "1             The Seaborn Identity      Action           119\n",
            "2                     The Matrices      Action           136\n",
            "3  There's Something About Merging      Comedy           119\n",
            "4                    Mamma Median!      Comedy           108\n",
            "5                    Harry Plotter        Kids           159\n",
            "6                   Kung Fu pandas        Kids            92\n",
            "7           While You Were Sorting     Romance           103\n",
            "8      10 Things I Hate About Unix     Romance            97\n"
          ],
          "name": "stdout"
        }
      ]
    },
    {
      "cell_type": "markdown",
      "metadata": {
        "id": "VabcT2hTCi-R"
      },
      "source": [
        "## .str.lower() and .str.title()\n",
        "Oh no! All of our movie titles in the movies DataFrame were inputted as uppercase by some guy at the popcorn stand!\n",
        "\n",
        "Let's take this as an opportunity to practice using some of our methods for cleaning up case in Python."
      ]
    },
    {
      "cell_type": "code",
      "metadata": {
        "id": "omtyhQTJCi-R",
        "outputId": "680e5161-049c-4f7b-caaf-67e01d6feb12"
      },
      "source": [
        "# Change movie_title column to lower case\n",
        "movies['movie_title'] = movies['movie_title'].str.lower()\n",
        "\n",
        "# Look at the change\n",
        "print(movies)"
      ],
      "execution_count": null,
      "outputs": [
        {
          "output_type": "stream",
          "text": [
            "                       movie_title movie_genre  movie_length\n",
            "0              the sumif all fears      Action           124\n",
            "1             the seaborn identity      Action           119\n",
            "2                     the matrices      Action           136\n",
            "3  there's something about merging      Comedy           119\n",
            "4                    mamma median!      Comedy           108\n",
            "5                    harry plotter        Kids           159\n",
            "6                   kung fu pandas        Kids            92\n",
            "7           while you were sorting     Romance           103\n",
            "8      10 things i hate about unix     Romance            97\n"
          ],
          "name": "stdout"
        }
      ]
    },
    {
      "cell_type": "code",
      "metadata": {
        "id": "jrau1uTHCi-S",
        "outputId": "66d10f16-13e2-4f27-ae51-57aef643bf74"
      },
      "source": [
        "# Change movie_title column to title case\n",
        "movies['movie_title'] = movies['movie_title'].str.title()\n",
        "\n",
        "# Look at the change\n",
        "print(movies)"
      ],
      "execution_count": null,
      "outputs": [
        {
          "output_type": "stream",
          "text": [
            "                       movie_title movie_genre  movie_length\n",
            "0              The Sumif All Fears      Action           124\n",
            "1             The Seaborn Identity      Action           119\n",
            "2                     The Matrices      Action           136\n",
            "3  There'S Something About Merging      Comedy           119\n",
            "4                    Mamma Median!      Comedy           108\n",
            "5                    Harry Plotter        Kids           159\n",
            "6                   Kung Fu Pandas        Kids            92\n",
            "7           While You Were Sorting     Romance           103\n",
            "8      10 Things I Hate About Unix     Romance            97\n"
          ],
          "name": "stdout"
        }
      ]
    },
    {
      "cell_type": "markdown",
      "metadata": {
        "id": "z5WG9P3nCi-S"
      },
      "source": [
        "## .str.strip()\n",
        "There is nothing scarier than spaces you can't see! Let's keep working with the movies DataFrame and make sure there's no creepy whitespace around our movie titles!"
      ]
    },
    {
      "cell_type": "code",
      "metadata": {
        "id": "4I9au9L5Ci-S",
        "outputId": "8509581c-118a-4558-8732-1ec66c11854c"
      },
      "source": [
        "# Strip whitespace from the movie_title column\n",
        "movies['movie_title'] = movies['movie_title'].str.strip()\n",
        "\n",
        "# Look at the result\n",
        "print(movies)"
      ],
      "execution_count": null,
      "outputs": [
        {
          "output_type": "stream",
          "text": [
            "                       movie_title movie_genre  movie_length\n",
            "0              The Sumif All Fears      Action           124\n",
            "1             The Seaborn Identity      Action           119\n",
            "2                     The Matrices      Action           136\n",
            "3  There'S Something About Merging      Comedy           119\n",
            "4                    Mamma Median!      Comedy           108\n",
            "5                    Harry Plotter        Kids           159\n",
            "6                   Kung Fu Pandas        Kids            92\n",
            "7           While You Were Sorting     Romance           103\n",
            "8      10 Things I Hate About Unix     Romance            97\n"
          ],
          "name": "stdout"
        }
      ]
    },
    {
      "cell_type": "markdown",
      "metadata": {
        "id": "MVZSrefQCi-S"
      },
      "source": [
        "## Selecting and .drop()\n",
        "The movie_length column isn't getting cast in our upcoming merger motion picture, so let's get rid of it!"
      ]
    },
    {
      "cell_type": "code",
      "metadata": {
        "id": "qDBtrHrHCi-S",
        "outputId": "c74fb1d3-7fe3-4194-9971-f22d44c9694c"
      },
      "source": [
        "# Select only movie_title and movie_genre in movies\n",
        "movies_title_genre = movies[['movie_title', 'movie_genre']]\n",
        "\n",
        "# Print results\n",
        "print(movies_title_genre)"
      ],
      "execution_count": null,
      "outputs": [
        {
          "output_type": "stream",
          "text": [
            "                       movie_title movie_genre\n",
            "0              The Sumif All Fears      Action\n",
            "1             The Seaborn Identity      Action\n",
            "2                     The Matrices      Action\n",
            "3  There'S Something About Merging      Comedy\n",
            "4                    Mamma Median!      Comedy\n",
            "5                    Harry Plotter        Kids\n",
            "6                   Kung Fu Pandas        Kids\n",
            "7           While You Were Sorting     Romance\n",
            "8      10 Things I Hate About Unix     Romance\n"
          ],
          "name": "stdout"
        }
      ]
    },
    {
      "cell_type": "code",
      "metadata": {
        "id": "COfsqFg7Ci-T",
        "outputId": "edec7328-a2ea-4047-edce-d36fd10606bc"
      },
      "source": [
        "# Drop the movie_length column\n",
        "movies_no_length = movies.drop('movie_length', axis=1)\n",
        "\n",
        "# Print results\n",
        "print(movies_no_length)"
      ],
      "execution_count": null,
      "outputs": [
        {
          "output_type": "stream",
          "text": [
            "                       movie_title movie_genre\n",
            "0              The Sumif All Fears      Action\n",
            "1             The Seaborn Identity      Action\n",
            "2                     The Matrices      Action\n",
            "3  There'S Something About Merging      Comedy\n",
            "4                    Mamma Median!      Comedy\n",
            "5                    Harry Plotter        Kids\n",
            "6                   Kung Fu Pandas        Kids\n",
            "7           While You Were Sorting     Romance\n",
            "8      10 Things I Hate About Unix     Romance\n"
          ],
          "name": "stdout"
        }
      ]
    },
    {
      "cell_type": "markdown",
      "metadata": {
        "id": "N8tzbB4TCi-T"
      },
      "source": [
        "## Merging for ticket prices\n",
        "So it turns out our tickets for adults, children, and seniors cost different dollar amounts!\n",
        "\n",
        "Currently loaded are two DataFrames:\n",
        "\n",
        "ticket_type_sales - A summary of tickets sold to adults, children, and seniors\n",
        "ticket_prices - A table of how much tickets cost for each ticket type\n",
        "Feel free to check them out in the console to get a better understanding of them.\n",
        "\n",
        "Let's merge ticket_type_sales with ticket_prices to calculate revenue by ticket type!"
      ]
    },
    {
      "cell_type": "code",
      "metadata": {
        "id": "sRInmO12Ci-T",
        "outputId": "0ea58755-8efa-4749-80f3-f45e3aa9a285"
      },
      "source": [
        "data_ticket_type_sales = {'ticket_type': ['adult','child','senior'],\n",
        "                          'tickets_sold': [1383,487,435]\n",
        "                         }\n",
        "\n",
        "ticket_type_sales=pd.DataFrame(data_ticket_type_sales, columns=[\"ticket_type\", \"tickets_sold\"])\n",
        "\n",
        "data_ticket_prices = {'ticket_type': ['child','adult','senior'],\n",
        "                      'ticket_price': [8,20,12]\n",
        "                         }\n",
        "\n",
        "ticket_prices=pd.DataFrame(data_ticket_prices, columns=[\"ticket_type\", \"ticket_price\"])\n",
        "\n",
        "\n",
        "# Join the tables\n",
        "sales_complete = ticket_type_sales.merge(ticket_prices, on=\"ticket_type\", how='left')\n",
        "\n",
        "# Add a revenue column\n",
        "sales_complete['revenue'] = sales_complete['tickets_sold'] * sales_complete['ticket_price']\n",
        "\n",
        "# Print the table\n",
        "print(sales_complete)"
      ],
      "execution_count": null,
      "outputs": [
        {
          "output_type": "stream",
          "text": [
            "  ticket_type  tickets_sold  ticket_price  revenue\n",
            "0       adult          1383            20    27660\n",
            "1       child           487             8     3896\n",
            "2      senior           435            12     5220\n"
          ],
          "name": "stdout"
        }
      ]
    },
    {
      "cell_type": "code",
      "metadata": {
        "id": "RNnk8cKSCi-T",
        "outputId": "5b2bd56b-ada7-4106-8faf-66c3e4164a73"
      },
      "source": [
        "data_theater_sales = {'theater_name': [\"Richie's Famous Minimax Theatre\",\"Sumdance Cinemas\",\"The Empirical House\", \"The Frame\"],\n",
        "                          'tickets_sold': [572,584,554,595]\n",
        "                         }\n",
        "\n",
        "theater_sales=pd.DataFrame(data_theater_sales, columns=[\"theater_name\", \"tickets_sold\"])\n",
        "\n",
        "data_theater_info = {'theater': [\"The Empirical House\",\"Sumdance Cinemas\",\"The Frame\",\"Richie's Famous Minimax Theatre\"],\n",
        "                      'theater_location': [\"New York\", \"Los Angeles\", \"Portland\", \"Los Angeles\"]\n",
        "                         }\n",
        "\n",
        "theater_info=pd.DataFrame(data_theater_info, columns=[\"theater\", \"theater_location\"])\n",
        "\n",
        "\n",
        "# Join the tables\n",
        "sales_join = theater_sales.merge(theater_info, left_on=\"theater_name\", right_on=\"theater\", how='left')\n",
        "\n",
        "# Drop the redundant theater column\n",
        "sales_complete = sales_join.drop(\"theater\", axis=1)\n",
        "\n",
        "# Print the table\n",
        "print(sales_complete)"
      ],
      "execution_count": null,
      "outputs": [
        {
          "output_type": "stream",
          "text": [
            "                      theater_name  tickets_sold theater_location\n",
            "0  Richie's Famous Minimax Theatre           572      Los Angeles\n",
            "1                 Sumdance Cinemas           584      Los Angeles\n",
            "2              The Empirical House           554         New York\n",
            "3                        The Frame           595         Portland\n"
          ],
          "name": "stdout"
        }
      ]
    },
    {
      "cell_type": "markdown",
      "metadata": {
        "id": "i4HiA9AVCi-T"
      },
      "source": [
        "## Putting it all together again\n",
        "Now that we have a better understanding of how merges can enrich our data, let's revisit a summary table.\n",
        "\n",
        "Currently loaded are two DataFrames:\n",
        "\n",
        "transactions - A full list of each ticket sale transaction - but no information on movie genre.\n",
        "movies - A table of our movie titles and genre\n",
        "Let's put these two tables together to create a view we took for granted before - ticket quantity sold for each genre."
      ]
    },
    {
      "cell_type": "code",
      "metadata": {
        "id": "4NBUYk91Ci-T",
        "outputId": "a18564ba-bb4d-4e9a-8317-6eb9c1e45db7"
      },
      "source": [
        "transactions=pd.read_excel(\"theater_report.xlsx\")\n",
        "#print(transactions)\n",
        "\n",
        "#print(movies)\n",
        "\n",
        "# Merge transaction data with the movie data on movie_title\n",
        "transactions_with_genres = transactions.merge(movies, how='left', on='movie_title')\n",
        "\n",
        "# Group by movie_genre and call the sum method\n",
        "genre_summary = transactions_with_genres.groupby('movie_genre', as_index=False).sum()\n",
        "\n",
        "# Sort the genre summary by ticket_quantity\n",
        "genre_summary_sorted = genre_summary.sort_values('ticket_quantity', ascending=False).reset_index(drop=True)\n",
        "\n",
        "# View the summary\n",
        "print(genre_summary_sorted)"
      ],
      "execution_count": null,
      "outputs": [
        {
          "output_type": "stream",
          "text": [
            "  movie_genre  ticket_quantity  movie_length\n",
            "0      Action              851       53903.0\n",
            "1     Romance              437       20506.0\n",
            "2      Comedy              323       17820.0\n",
            "3        Kids              292       23850.0\n"
          ],
          "name": "stdout"
        }
      ]
    },
    {
      "cell_type": "markdown",
      "metadata": {
        "id": "lLYw84nVCi-U"
      },
      "source": [
        "## Top grossing films\n",
        "Now that we know how to make barplots, let's visualize our sales data. The following data manipulation was done to sales in order to create the movie_totals data set you will work with in the exercise:\n",
        "\n",
        "(scroll to the right to see more)\n",
        "```\n",
        "movie_totals = sales.groupby('movie_title', as_index=False).sum()\n",
        "\n",
        "movie_totals = movie_totals.sort_values('revenue', ascending=False).reset_index(drop=True)\n",
        "```\n",
        "Note that it's the sorting of data above that will make our visualization that much more pleasing to look at."
      ]
    },
    {
      "cell_type": "code",
      "metadata": {
        "id": "BhgM-2bDCi-U"
      },
      "source": [
        "# Import viz packages\n",
        "import seaborn as sns\n",
        "import matplotlib.pyplot as plt"
      ],
      "execution_count": null,
      "outputs": []
    },
    {
      "cell_type": "code",
      "metadata": {
        "id": "S59hRsc5Ci-U",
        "outputId": "e031c0e1-ec5c-4dbd-bc5f-247ec1e09f7e"
      },
      "source": [
        "data_movie_totals = {'movie_title': [\"The Seaborn Identity\",\n",
        "                                     \"The Matrices\",\n",
        "                                     \"Mamma Median!\", \n",
        "                                     \"10 Things I Hate About Unix\",\n",
        "                                    \"Harry Plotter\",\n",
        "                                    \"Kung Fu pandas\",\n",
        "                                    \"The Sumif All Fears\",\n",
        "                                    \"There's Something About Merging\",\n",
        "                                    \"While You Were Sorting\"],\n",
        "                     'tickets_quantity': [352,343,323,331, \n",
        "                                          292,253,156,149,106],\n",
        "                     'revenue': [5784,5452,5284,5116, \n",
        "                                 4424,4228,2484,2412,1592]\n",
        "                         }\n",
        "\n",
        "movie_totals=pd.DataFrame(data_movie_totals, columns=[\"movie_title\", \n",
        "                                                      \"tickets_quantity\",\n",
        "                                                     \"revenue\"])\n",
        "\n",
        "# Create barplot\n",
        "sns.barplot(x='revenue', y='movie_title', data=movie_totals)\n",
        "\n",
        "# Display barplot\n",
        "plt.show()"
      ],
      "execution_count": null,
      "outputs": [
        {
          "output_type": "display_data",
          "data": {
            "image/png": "[encoded data removed]",
            "text/plain": [
              "<Figure size 432x288 with 1 Axes>"
            ]
          },
          "metadata": {
            "tags": [],
            "needs_background": "light"
          }
        }
      ]
    },
    {
      "cell_type": "markdown",
      "metadata": {
        "id": "8LygxX5xCi-U"
      },
      "source": [
        "## Best genres\n",
        "Let's make another graphic, this time with movie genres instead.\n",
        "\n",
        "Once again, here are the lines of code we used to summarize our sales data into genre_totals before graphing.\n",
        "\n",
        "(scroll to the right to see more)\n",
        "```\n",
        "genre_totals = sales.groupby('movie_genre', as_index=False).sum()\n",
        "\n",
        "genre_totals = genre_totals.sort_values('revenue', ascending=False).reset_index(drop=True)\n",
        "```"
      ]
    },
    {
      "cell_type": "code",
      "metadata": {
        "id": "acCUwzsYCi-U",
        "outputId": "98527601-ae67-405b-cd36-d91cbaf8d6e7"
      },
      "source": [
        "data_genre_totals = {'movie_genre': [\"Action\",\n",
        "                                     \"Kids\",\n",
        "                                     \"Comedy\", \n",
        "                                     \"Romance\"],\n",
        "                     'tickets_quantity': [851,545,472,437],\n",
        "                     'revenue': [13720,8652,7696,6708]\n",
        "                         }\n",
        "\n",
        "genre_totals=pd.DataFrame(data_genre_totals, columns=[\"movie_genre\", \n",
        "                                                      \"tickets_quantity\",\n",
        "                                                     \"revenue\"])\n",
        "\n",
        "\n",
        "# Create barplot\n",
        "sns.barplot(x='movie_genre', y='revenue', data=genre_totals)\n",
        "\n",
        "# Display barplot\n",
        "plt.show()"
      ],
      "execution_count": null,
      "outputs": [
        {
          "output_type": "display_data",
          "data": {
            "image/png": "[encoded data removed]",
            "text/plain": [
              "<Figure size 432x288 with 1 Axes>"
            ]
          },
          "metadata": {
            "tags": [],
            "needs_background": "light"
          }
        }
      ]
    },
    {
      "cell_type": "markdown",
      "metadata": {
        "id": "dKxuge-CCi-U"
      },
      "source": [
        "## Put a title on it\n",
        "Let's take our genre_totals barplot from the last chapter and improve it with better labels, less boarders, and a preset style. First, let's add a title.\n",
        "\n",
        "Note that seaborn and matplotlib.pyplot have been loaded for you as sns and plt, respectively."
      ]
    },
    {
      "cell_type": "code",
      "metadata": {
        "id": "X0HgavNTCi-V",
        "outputId": "b3b2964e-aace-404a-c8c9-6f118e0a09ad"
      },
      "source": [
        "# Create barplot\n",
        "sns.barplot(x='movie_genre', y='revenue', data=genre_totals)\n",
        "\n",
        "# Add a title\n",
        "plt.title('Revenue by Genre')\n",
        "\n",
        "plt.show()"
      ],
      "execution_count": null,
      "outputs": [
        {
          "output_type": "display_data",
          "data": {
            "image/png": "[encoded data removed]",
            "text/plain": [
              "<Figure size 432x288 with 1 Axes>"
            ]
          },
          "metadata": {
            "tags": [],
            "needs_background": "light"
          }
        }
      ]
    },
    {
      "cell_type": "markdown",
      "metadata": {
        "id": "ul2qHELnCi-V"
      },
      "source": [
        "## Label your axes!\n",
        "It's very important to label your axes. Continuing with our genre_totals barplot from the last exercise, let's continue building upon it here."
      ]
    },
    {
      "cell_type": "code",
      "metadata": {
        "id": "lXz0zcSxCi-V",
        "outputId": "151daf50-bc3f-44f4-da8c-05acb7a4131c"
      },
      "source": [
        "sns.barplot(x='movie_genre', y='revenue', data=genre_totals)\n",
        "plt.title('Revenue by Genre')\n",
        "\n",
        "# Add x axis label\n",
        "plt.xlabel('Movie Genre')\n",
        "\n",
        "# Add y axis label\n",
        "plt.ylabel('Revenue (USD)')\n",
        "\n",
        "plt.show()"
      ],
      "execution_count": null,
      "outputs": [
        {
          "output_type": "display_data",
          "data": {
            "image/png": "[encoded data removed]",
            "text/plain": [
              "<Figure size 432x288 with 1 Axes>"
            ]
          },
          "metadata": {
            "tags": [],
            "needs_background": "light"
          }
        }
      ]
    },
    {
      "cell_type": "markdown",
      "metadata": {
        "id": "4hWXzbJZCi-V"
      },
      "source": [
        "## Make it pretty with sns\n",
        "Let's make the graph stakeholder-facing with some final touches."
      ]
    },
    {
      "cell_type": "code",
      "metadata": {
        "id": "-0p-wkdaCi-V",
        "outputId": "f5e6ad71-4734-4a94-abdd-3881d1b0b702"
      },
      "source": [
        "# Set style to whitegrid\n",
        "sns.set_style('whitegrid')\n",
        "\n",
        "sns.barplot(x='movie_genre', y='revenue', data=genre_totals)\n",
        "plt.title('Revenue by Genre')\n",
        "plt.xlabel('Movie Genre')\n",
        "plt.ylabel('Revenue (USD)')\n",
        "\n",
        "# Remove unwanted borders\n",
        "sns.despine()\n",
        "\n",
        "plt.show()"
      ],
      "execution_count": null,
      "outputs": [
        {
          "output_type": "display_data",
          "data": {
            "image/png": "[encoded data removed]",
            "text/plain": [
              "<Figure size 432x288 with 1 Axes>"
            ]
          },
          "metadata": {
            "tags": []
          }
        }
      ]
    },
    {
      "cell_type": "markdown",
      "metadata": {
        "id": "LnmA7UwZCi-V"
      },
      "source": [
        "## Genre by market\n",
        "A view of your sales data that covers movie_genre performance in each theater_location has been created for you as genre_market_totals. Feel free to use the .head() method to explore it in your console.\n",
        "\n",
        "This table is a great opportunity to use the hue parameter of sns.barplot() to investigate the performance of each movie genre across each market, or theater_location."
      ]
    },
    {
      "cell_type": "code",
      "metadata": {
        "id": "yNSiEZRVCi-W",
        "outputId": "e577f30c-c4d4-48a0-cfac-1e8d1ac13003"
      },
      "source": [
        "data_genre_market_totals = {'movie_genre': [\"Action\",\n",
        "                                            \"Kids\",\n",
        "                                            \"Action\",\n",
        "                                            \"Comedy\",\n",
        "                                            \"Romance\",\n",
        "                                            \"Action\",\n",
        "                                            \"Kids\",\n",
        "                                            \"Comedy\",\n",
        "                                            \"Comedy\",\n",
        "                                            \"Romance\",\n",
        "                                            \"Kids\",\n",
        "                                            \"Romance\"],\n",
        "                            'theater_location': [\"Los Angeles\",\n",
        "                                                 \"Los Angeles\",\n",
        "                                                 \"New York\",\n",
        "                                                 \"Los Angeles\",\n",
        "                                                 \"Los Angeles\",\n",
        "                                                 \"Portland\",\n",
        "                                                 \"Portland\",\n",
        "                                                 \"New York\",\n",
        "                                                 \"Portland\",\n",
        "                                                 \"Portland\",\n",
        "                                                 \"New York\",\n",
        "                                                 \"New York\"],\n",
        "                            'ticket_quantity': [389,280,248,243,244,214,\n",
        "                                                170,119,110,101, 95, 92],\n",
        "                            'revenue':[6140,4488,4180,3864,3616,3400,\n",
        "                                       2724,2068,1764,1664,1440,1428]\n",
        "                            \n",
        "                         }\n",
        "\n",
        "genre_market_totals=pd.DataFrame(data_genre_market_totals, \n",
        "                                 columns=[\"movie_genre\", \"theater_location\",\n",
        "                                          \"ticket_quantity\",\"revenue\"])\n",
        "\n",
        "\n",
        "# Create barplot\n",
        "sns.barplot(x='theater_location', y='revenue', hue='movie_genre', data=genre_market_totals)\n",
        "\n",
        "# Add labels\n",
        "plt.title('Genre Performance by Market')\n",
        "plt.xlabel('Market')\n",
        "plt.ylabel('Revenue (USD)')\n",
        "\n",
        "plt.show()"
      ],
      "execution_count": null,
      "outputs": [
        {
          "output_type": "display_data",
          "data": {
            "image/png": "[encoded data removed]",
            "text/plain": [
              "<Figure size 432x288 with 1 Axes>"
            ]
          },
          "metadata": {
            "tags": []
          }
        }
      ]
    },
    {
      "cell_type": "markdown",
      "metadata": {
        "id": "JUPhWti6Ci-W"
      },
      "source": [
        "## Genre by ticket type\n",
        "A view of your sales data that covers movie_genre performance in by each ticket_type has been created for you as genre_ticket_totals. Feel free to use the .head() method to explore it in your console.\n",
        "\n",
        "This is another great opportunity to use the hue parameter of sns.barplot() to investigate the performance of each movie genre across seniors, adults, and children via ticket_type column."
      ]
    },
    {
      "cell_type": "code",
      "metadata": {
        "id": "xMHyZk9VCi-W",
        "outputId": "2421e437-4c71-4ed5-9020-a42d4730f718"
      },
      "source": [
        "data_genre_ticket_totals = {'movie_genre': [\"Action\",\n",
        "                                            \"Kids\",\n",
        "                                            \"Comedy\",\n",
        "                                            \"Romance\",\n",
        "                                            \"Action\",\n",
        "                                            \"Action\",\n",
        "                                            \"Romance\",\n",
        "                                            \"Kids\",\n",
        "                                            \"Kids\",\n",
        "                                            \"Comedy\",\n",
        "                                            \"Romance\",\n",
        "                                            \"Comedy\"],\n",
        "                            'ticket_type': [\"adult\",\n",
        "                                            \"adult\",\n",
        "                                            \"adult\",\n",
        "                                            \"adult\",\n",
        "                                            \"senior\",\n",
        "                                            \"child\",\n",
        "                                            \"senior\",\n",
        "                                            \"senior\",\n",
        "                                            \"child\",\n",
        "                                            \"senior\",\n",
        "                                            \"child\",\n",
        "                                            \"child\"],\n",
        "                            'ticket_quantity': [521,325,303,234,165,165,\n",
        "                                               101,98,122,71,102,98],\n",
        "                            'revenue':[10420,6500,6060,4680,1980,1320,\n",
        "                                        1212,1176, 976, 852, 816, 784]\n",
        "                            \n",
        "                         }\n",
        "\n",
        "genre_ticket_totals=pd.DataFrame(data_genre_ticket_totals, \n",
        "                                 columns=[\"movie_genre\", \"ticket_type\",\n",
        "                                          \"ticket_quantity\",\"revenue\"])\n",
        "\n",
        "\n",
        "# Create barplot\n",
        "sns.barplot(x='ticket_type', y='ticket_quantity', hue='movie_genre', data=genre_ticket_totals)\n",
        "\n",
        "# Add labels\n",
        "plt.title('Genre Turnout by Ticket Type')\n",
        "plt.xlabel('Ticket Type')\n",
        "plt.ylabel('Tickets Sold')\n",
        "\n",
        "plt.show()"
      ],
      "execution_count": null,
      "outputs": [
        {
          "output_type": "display_data",
          "data": {
            "image/png": "[encoded data removed]",
            "text/plain": [
              "<Figure size 432x288 with 1 Axes>"
            ]
          },
          "metadata": {
            "tags": []
          }
        }
      ]
    },
    {
      "cell_type": "code",
      "metadata": {
        "id": "TbFt9BSXCi-W"
      },
      "source": [
        ""
      ],
      "execution_count": null,
      "outputs": []
    }
  ]
}